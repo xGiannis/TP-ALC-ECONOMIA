{
 "cells": [
  {
   "cell_type": "markdown",
   "id": "5c0cbb93-2880-4750-975d-11cce9f6b12c",
   "metadata": {},
   "source": [
    "# Trabajo Práctico 1 - Matrices de Insumo Producto\n",
    "\n",
    "## Enunciado"
   ]
  },
  {
   "cell_type": "markdown",
   "id": "11f7face-a325-4e30-b13e-0c3d84280c5e",
   "metadata": {},
   "source": [
    "### Consigna 1 - "
   ]
  },
  {
   "cell_type": "markdown",
   "id": "e69c407d-9132-421c-8d02-508da3bb3ae6",
   "metadata": {},
   "source": [
    "#a) En ese caso el sistema tiene solucion y es unica\n",
    "#b) En este caso p = 0.\n",
    "#c)En esta caso hay que analizar (1) pues (I-A) no es inversible. Nos queda el sistema (I-A) p = d como (I-A) no es inversible entonces el sistema no tiene solucion o tiene infinitas soluciones.\n",
    "#d) En este caso tenemos el siguiente sistema homogeno (I-A) = 0, como (I-A) es homogoneo entonces el sistema tiene infinitas soluciones."
   ]
  },
  {
   "cell_type": "markdown",
   "id": "6ea60699-4c07-40fb-8f71-ec4cacf32708",
   "metadata": {},
   "source": [
    "### Consigna 2 -  "
   ]
  },
  {
   "cell_type": "code",
   "execution_count": 1,
   "id": "260b913f-d6d3-47b8-9431-7a64d6d037a5",
   "metadata": {},
   "outputs": [],
   "source": [
    "import numpy as np\n",
    "from funciones import *"
   ]
  },
  {
   "cell_type": "code",
   "execution_count": null,
   "id": "5b8e72f4-3b78-4345-aff5-4810cfb8fe1c",
   "metadata": {},
   "outputs": [],
   "source": [
    "### Consigna 3 -"
   ]
  },
  {
   "cell_type": "code",
   "execution_count": 40,
   "id": "85671b15-e0cb-4623-998a-8c982fc6eac3",
   "metadata": {},
   "outputs": [
    {
     "name": "stdout",
     "output_type": "stream",
     "text": [
      "esto es n---> 3\n",
      "Pivote 1 es nulo\n",
      "[(-0.15, 2)]\n",
      "L despues de permutar \n",
      " [[ 1.          0.          0.        ]\n",
      " [-0.14285714  1.          0.        ]\n",
      " [-0.07142857  0.          1.        ]]\n",
      "(3, 3)\n",
      "p = \n",
      " [   68.96551724 -5149.42528736  -517.24137931]\n"
     ]
    }
   ],
   "source": [
    "A = np.array([[0.3,0,0.1],[0.05,1.0,0.2],[0.1,0.15,0.1]])\n",
    "d = np.array([100,100,300])\n",
    "ML = np.eye(np.shape(A)[0]) - A\n",
    "\n",
    "#calculamos L, U, P y la inversa de ML:\n",
    "L, U, P = calcularLU(ML)\n",
    "ML_inv = inversaLU(L,U,P)\n",
    "\n",
    "#calculamos p:\n",
    "p = ML_inv @ d\n",
    "print(f'p = \\n {p}')"
   ]
  },
  {
   "cell_type": "code",
   "execution_count": null,
   "id": "67a112a4-4835-4dbd-91f4-331bcbc55a8c",
   "metadata": {},
   "outputs": [],
   "source": [
    "### Consigna 4 - "
   ]
  },
  {
   "cell_type": "code",
   "execution_count": 7,
   "id": "04a8a4f6-4c88-4fda-b18f-3c6ea1bf7b3e",
   "metadata": {},
   "outputs": [
    {
     "name": "stdout",
     "output_type": "stream",
     "text": [
      "A =\n",
      " [[350.   0.   0.]\n",
      " [ 50. 250. 150.]\n",
      " [200. 150. 550.]]\n",
      "esto es n---> 3\n",
      "(3, 3)\n",
      "Matriz de Leontief:\n",
      " [[-2.86532951e-03  0.00000000e+00  0.00000000e+00]\n",
      " [-6.39800900e-05 -4.80731342e-03  1.31347361e-03]\n",
      " [ 1.06131679e-03  1.31347361e-03 -2.18036620e-03]]\n"
     ]
    }
   ],
   "source": [
    "### Consigna 5\n",
    "\n",
    "Z = np.array([[350,0,0],[50,250,150],[200,150,550]])\n",
    "P_inv = np.array([[1/1000,0,0],[0,1/500,0],[0,0,1/1000]]) #P_inv_ij = 1/(P_ij), ya que P es una matriz diagonal.\n",
    "\n",
    "A = Z @ P\n",
    "print(f'A =\\n {A}')\n",
    "\n",
    "#Ahora calculamos la matriz de Leontief. (L = (I-A)_inv)\n",
    "\n",
    "ImenosA = np.eye(3) - A\n",
    "L, U, P = calcularLU(ImenosA)\n",
    "\n",
    "ML = inversaLU(L,U,P)\n",
    "\n",
    "print(f'Matriz de Leontief:\\n {ML}')\n",
    "\n",
    "#print(ImenosA @ ML) para chequear que vale.\n"
   ]
  },
  {
   "cell_type": "code",
   "execution_count": null,
   "id": "7785e899",
   "metadata": {},
   "outputs": [],
   "source": []
  }
 ],
 "metadata": {
  "kernelspec": {
   "display_name": "Python 3 (ipykernel)",
   "language": "python",
   "name": "python3"
  },
  "language_info": {
   "codemirror_mode": {
    "name": "ipython",
    "version": 3
   },
   "file_extension": ".py",
   "mimetype": "text/x-python",
   "name": "python",
   "nbconvert_exporter": "python",
   "pygments_lexer": "ipython3",
   "version": "3.10.4"
  }
 },
 "nbformat": 4,
 "nbformat_minor": 5
}

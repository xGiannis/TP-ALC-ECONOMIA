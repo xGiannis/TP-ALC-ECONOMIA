{
 "cells": [
  {
   "cell_type": "markdown",
   "id": "5c0cbb93-2880-4750-975d-11cce9f6b12c",
   "metadata": {},
   "source": [
    "# Trabajo Práctico 1 - Matrices de Insumo Producto\n",
    "\n",
    "## Enunciado"
   ]
  },
  {
   "cell_type": "markdown",
   "id": "11f7face-a325-4e30-b13e-0c3d84280c5e",
   "metadata": {},
   "source": [
    "### Consigna 1 - "
   ]
  },
  {
   "cell_type": "markdown",
   "id": "e69c407d-9132-421c-8d02-508da3bb3ae6",
   "metadata": {},
   "source": [
    "1. En ese caso el sistema tiene solución y es única.\n",
    "2. En este caso  __p__ = 0 \\.\n",
    "3. En este caso hay que analizar (__1__) pues (__I-A__) no es inversible. Nos queda el sistema (__I-A__) __p__ = __d__ . Como (__I-A__) no es inversible, entonces el sistema no tiene solución o tiene infinitas soluciones.\n",
    "4. En este caso tenemos el siguiente sistema homogéneo (__I-A__) __p__ = 0 . Como tenemos un homogéneo e (__I-A__) no es inversible , entonces el sistema tiene infinitas soluciones."
   ]
  },
  {
   "cell_type": "markdown",
   "id": "6ea60699-4c07-40fb-8f71-ec4cacf32708",
   "metadata": {},
   "source": [
    "### Consigna 2 -  "
   ]
  },
  {
   "cell_type": "code",
   "execution_count": 73,
   "id": "260b913f-d6d3-47b8-9431-7a64d6d037a5",
   "metadata": {},
   "outputs": [],
   "source": [
    "import numpy as np\n",
    "from funciones import *"
   ]
  },
  {
   "cell_type": "markdown",
   "id": "0e1b1089-a588-4495-b3a4-9d00a0a0a76f",
   "metadata": {},
   "source": [
    "### Consigna 3 -"
   ]
  },
  {
   "cell_type": "code",
   "execution_count": 75,
   "id": "85671b15-e0cb-4623-998a-8c982fc6eac3",
   "metadata": {},
   "outputs": [
    {
     "name": "stdout",
     "output_type": "stream",
     "text": [
      "esto es n---> 3\n",
      "Pivote 1 es nulo\n",
      "[(-0.15, 2)]\n",
      "L despues de permutar \n",
      " [[ 1.          0.          0.        ]\n",
      " [-0.14285714  1.          0.        ]\n",
      " [-0.07142857  0.          1.        ]]\n",
      "(3, 3)\n",
      "p = \n",
      " [   68.96551724 -5149.42528736  -517.24137931]\n"
     ]
    }
   ],
   "source": [
    "A = np.array([[0.3,0,0.1],[0.05,1.0,0.2],[0.1,0.15,0.1]])\n",
    "d = np.array([100,100,300])\n",
    "ML = np.eye(np.shape(A)[0]) - A\n",
    "\n",
    "#calculamos L, U, P y la inversa de ML:\n",
    "L, U, P = calcularLU(ML)\n",
    "ML_inv = inversaLU(L,U,P)\n",
    "\n",
    "#calculamos p:\n",
    "p = ML_inv @ d\n",
    "print(f'p = \\n {p}')"
   ]
  },
  {
   "cell_type": "markdown",
   "id": "05074fdf-eec7-4b3f-9bd2-5bd13ddeaf4f",
   "metadata": {},
   "source": [
    "### Consigna 4 - "
   ]
  },
  {
   "cell_type": "markdown",
   "id": "fcf8ad9d-d078-4d6a-9cf2-d402983bc06d",
   "metadata": {},
   "source": [
    "Primero escribimos **(2)** con **p'** y **d'**.\n",
    "\n",
    "$$\n",
    "\\mathbf{p}' = (I - A)^{-1} \\mathbf{d}'\n",
    "$$\n",
    "\n",
    "$$\n",
    "\\mathbf{p}' = (I - A)^{-1} \\left( \\begin{bmatrix} d_1 \\\\ d_2 \\\\ d_3 \\end{bmatrix} + \\begin{bmatrix} 0 \\\\ 0 \\\\ 1 \\end{bmatrix} \\right)\n",
    "$$\n",
    "\n",
    "Si distribuimos la matriz de **Leontief** nos queda:\n",
    "\n",
    "$$\n",
    "\\mathbf{p}' = \\mathbf{p} + (I - A)^{-1}  \\begin{bmatrix} 0 \\\\ 0 \\\\ 1 \\end{bmatrix}\n",
    "$$\n",
    "\n",
    "Luego...\n",
    "\n",
    "$$\n",
    "\\Delta p = \\mathbf{p}' - \\mathbf{p}\n",
    "$$\n",
    "\n",
    "Finalmente:\n",
    "\n",
    "$$\n",
    "\\Delta p = (I - A)^{-1} \\Delta d\n",
    "$$"
   ]
  },
  {
   "cell_type": "markdown",
   "id": "b101dcc9-b15b-4ddf-b65d-7966e85243e4",
   "metadata": {},
   "source": [
    "### Consigna 5 - "
   ]
  },
  {
   "cell_type": "markdown",
   "id": "e944c3ce-f32b-41d6-869b-7340376b266f",
   "metadata": {},
   "source": [
    "* Escribimos los datos del problema:"
   ]
  },
  {
   "cell_type": "code",
   "execution_count": 88,
   "id": "04a8a4f6-4c88-4fda-b18f-3c6ea1bf7b3e",
   "metadata": {},
   "outputs": [],
   "source": [
    "\n",
    "Z = np.array([[350,0,0],[50,250,150],[200,150,550]])\n",
    "P_inv = np.array([[1/1000,0,0],[0,1/500,0],[0,0,1/1000]]) #P_inv_ij = 1/(P_ij), ya que P es una matriz diagonal.\n"
   ]
  },
  {
   "cell_type": "markdown",
   "id": "44853899-2ec5-452f-8c29-a5a58f81c3ba",
   "metadata": {},
   "source": [
    "* Calculamos los coeficientes tecnicos de la matriz **A**:"
   ]
  },
  {
   "cell_type": "code",
   "execution_count": 83,
   "id": "7785e899",
   "metadata": {},
   "outputs": [
    {
     "name": "stdout",
     "output_type": "stream",
     "text": [
      "A = \n",
      " [[0.35 0.   0.  ]\n",
      " [0.05 0.5  0.15]\n",
      " [0.2  0.3  0.55]]\n"
     ]
    }
   ],
   "source": [
    "A = Z @ P_inv\n",
    "print(f'A = \\n {A}')"
   ]
  },
  {
   "cell_type": "markdown",
   "id": "3550f0ef-2f62-4049-a4d5-14164ae97bdb",
   "metadata": {},
   "source": [
    "* Ahora calculamos la matriz de Leontief:"
   ]
  },
  {
   "cell_type": "code",
   "execution_count": 90,
   "id": "e3d46a6f-3b2c-4335-a8f5-06ecab6ca658",
   "metadata": {},
   "outputs": [
    {
     "name": "stdout",
     "output_type": "stream",
     "text": [
      "esto es n---> 3\n",
      "(3, 3)\n",
      "Matriz de Leontief:\n",
      " [[1.53846154 0.         0.        ]\n",
      " [0.44871795 2.5        0.83333333]\n",
      " [0.98290598 1.66666667 2.77777778]]\n"
     ]
    }
   ],
   "source": [
    "ImenosA = np.eye(3) - A\n",
    "L, U, P = calcularLU(ImenosA)\n",
    "\n",
    "ML = inversaLU(L,U,P)\n",
    "\n",
    "print(f'Matriz de Leontief:\\n {ML}')\n",
    "\n",
    "#print(ImenosA @ ML) para chequear que vale."
   ]
  },
  {
   "cell_type": "markdown",
   "id": "3aaecf9a-0750-4e03-9c65-c84c4d88422a",
   "metadata": {},
   "source": [
    "### Consigna 6"
   ]
  },
  {
   "cell_type": "code",
   "execution_count": null,
   "id": "a15dae76-a592-4245-bab0-82581ebf1e0a",
   "metadata": {},
   "outputs": [],
   "source": []
  },
  {
   "cell_type": "markdown",
   "id": "85449715-acb3-4745-919f-d92471d5865d",
   "metadata": {},
   "source": [
    "### Consigna 7"
   ]
  },
  {
   "cell_type": "code",
   "execution_count": null,
   "id": "7d4448e8-223e-4597-a442-1eedc4e7d1e2",
   "metadata": {},
   "outputs": [],
   "source": [
    "import pandas as pd"
   ]
  },
  {
   "cell_type": "code",
   "execution_count": null,
   "id": "d7899182-4375-49dd-b931-2da60578b679",
   "metadata": {},
   "outputs": [],
   "source": []
  }
 ],
 "metadata": {
  "kernelspec": {
   "display_name": "Python 3 (ipykernel)",
   "language": "python",
   "name": "python3"
  },
  "language_info": {
   "codemirror_mode": {
    "name": "ipython",
    "version": 3
   },
   "file_extension": ".py",
   "mimetype": "text/x-python",
   "name": "python",
   "nbconvert_exporter": "python",
   "pygments_lexer": "ipython3",
   "version": "3.12.4"
  }
 },
 "nbformat": 4,
 "nbformat_minor": 5
}

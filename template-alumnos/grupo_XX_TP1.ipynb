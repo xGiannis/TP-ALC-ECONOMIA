{
 "cells": [
  {
   "attachments": {},
   "cell_type": "markdown",
   "id": "5c0cbb93-2880-4750-975d-11cce9f6b12c",
   "metadata": {},
   "source": [
    "# Trabajo Práctico 1 - Matrices de Insumo Producto\n",
    "\n",
    "## Enunciado"
   ]
  },
  {
   "cell_type": "markdown",
   "id": "11f7face-a325-4e30-b13e-0c3d84280c5e",
   "metadata": {},
   "source": [
    "### Consigna 1 - "
   ]
  },
  {
   "cell_type": "markdown",
   "id": "e69c407d-9132-421c-8d02-508da3bb3ae6",
   "metadata": {},
   "source": []
  },
  {
   "cell_type": "markdown",
   "id": "6ea60699-4c07-40fb-8f71-ec4cacf32708",
   "metadata": {},
   "source": [
    "### Consigna 2 -  "
   ]
  },
  {
   "cell_type": "code",
   "execution_count": null,
   "id": "260b913f-d6d3-47b8-9431-7a64d6d037a5",
   "metadata": {},
   "outputs": [],
   "source": [
    "import funciones"
   ]
  },
  {
   "cell_type": "markdown",
   "id": "b6527567-ea14-4fb0-8cbb-3faa67fee8c1",
   "metadata": {},
   "source": [
    "---"
   ]
  },
  {
   "cell_type": "code",
   "execution_count": null,
   "id": "07f69bd8-9a22-4fa0-8e69-7e2580e80459",
   "metadata": {},
   "outputs": [],
   "source": []
  },
  {
   "cell_type": "markdown",
   "id": "19403a3c-422b-4bdb-85b3-058b90560067",
   "metadata": {},
   "source": [
    "---"
   ]
  }
 ],
 "metadata": {
  "kernelspec": {
   "display_name": "Python 3 (ipykernel)",
   "language": "python",
   "name": "python3"
  },
  "language_info": {
   "codemirror_mode": {
    "name": "ipython",
    "version": 3
   },
   "file_extension": ".py",
   "mimetype": "text/x-python",
   "name": "python",
   "nbconvert_exporter": "python",
   "pygments_lexer": "ipython3",
   "version": "3.9.18"
  }
 },
 "nbformat": 4,
 "nbformat_minor": 5
}

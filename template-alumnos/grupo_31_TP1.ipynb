{
 "cells": [
  {
   "cell_type": "markdown",
   "id": "5c0cbb93-2880-4750-975d-11cce9f6b12c",
   "metadata": {},
   "source": [
    "# Trabajo Práctico 1 - Matrices de Insumo Producto\n",
    "\n",
    "## Enunciado"
   ]
  },
  {
   "cell_type": "markdown",
   "id": "11f7face-a325-4e30-b13e-0c3d84280c5e",
   "metadata": {},
   "source": [
    "### Consigna 1 - "
   ]
  },
  {
   "cell_type": "markdown",
   "id": "e69c407d-9132-421c-8d02-508da3bb3ae6",
   "metadata": {},
   "source": [
    "1. En ese caso el sistema tiene solución y es única.\n",
    "2. En este caso  __p__ = 0 \\.\n",
    "3. En este caso hay que analizar (__1__) pues (__I-A__) no es inversible. Nos queda el sistema (__I-A__) __p__ = __d__ . Como (__I-A__) no es inversible, entonces el sistema no tiene solución o tiene infinitas soluciones.\n",
    "4. En este caso tenemos el siguiente sistema homogéneo (__I-A__) __p__ = 0 . Como tenemos un homogéneo e (__I-A__) no es inversible , entonces el sistema tiene infinitas soluciones."
   ]
  },
  {
   "cell_type": "markdown",
   "id": "6ea60699-4c07-40fb-8f71-ec4cacf32708",
   "metadata": {},
   "source": [
    "### Consigna 2 -  "
   ]
  },
  {
   "cell_type": "code",
   "execution_count": 5,
   "id": "260b913f-d6d3-47b8-9431-7a64d6d037a5",
   "metadata": {},
   "outputs": [],
   "source": [
    "import numpy as np\n",
    "from funciones import *"
   ]
  },
  {
   "cell_type": "markdown",
   "id": "0e1b1089-a588-4495-b3a4-9d00a0a0a76f",
   "metadata": {},
   "source": [
    "### Consigna 3 -"
   ]
  },
  {
   "cell_type": "markdown",
   "id": "7b5986b1-6256-4901-afee-9d94638ba91b",
   "metadata": {},
   "source": [
    "Definimos los datos del ejercicio."
   ]
  },
  {
   "cell_type": "code",
   "execution_count": 8,
   "id": "85671b15-e0cb-4623-998a-8c982fc6eac3",
   "metadata": {},
   "outputs": [],
   "source": [
    "A = np.array([[0.3,0,0.1],[0.05,1.0,0.2],[0.1,0.15,0.1]])\n",
    "d = np.array([100,100,300])\n",
    "ImenosA = np.eye(np.shape(A)[0]) - A"
   ]
  },
  {
   "cell_type": "markdown",
   "id": "b95d310a-61bd-4f04-990a-61877f9715a6",
   "metadata": {},
   "source": [
    "Calculamos L, U, P y la matriz de Leontief:"
   ]
  },
  {
   "cell_type": "code",
   "execution_count": 10,
   "id": "900851a1-d986-47e7-95fe-9ef2361ad78f",
   "metadata": {},
   "outputs": [
    {
     "name": "stdout",
     "output_type": "stream",
     "text": [
      "esto es n---> 3\n",
      "Pivote 1 es nulo\n",
      "[(-0.15, 2)]\n",
      "L despues de permutar \n",
      " [[ 1.          0.          0.        ]\n",
      " [-0.14285714  1.          0.        ]\n",
      " [-0.07142857  0.          1.        ]]\n",
      "(3, 3)\n"
     ]
    }
   ],
   "source": [
    "L, U, P = calcularLU(ImenosA)\n",
    "ML_inv = inversaLU(L,U,P)"
   ]
  },
  {
   "cell_type": "markdown",
   "id": "00c5de54-14c6-46a7-acd7-6f558b8fc64c",
   "metadata": {},
   "source": [
    "Calculamos p:"
   ]
  },
  {
   "cell_type": "code",
   "execution_count": 12,
   "id": "5868ea49-8ecc-4069-afdc-eeb7a2bceb55",
   "metadata": {},
   "outputs": [
    {
     "name": "stdout",
     "output_type": "stream",
     "text": [
      "p = \n",
      " [   68.96551724 -5149.42528736  -517.24137931]\n"
     ]
    }
   ],
   "source": [
    "p = ML_inv @ d\n",
    "print(f'p = \\n {p}')"
   ]
  },
  {
   "cell_type": "markdown",
   "id": "08468ba2",
   "metadata": {},
   "source": [
    " Este resultado para la producción se debe a que en la matriz A, $a_{22}$ es 1, es decir se utiliza un 100% del producto 2 para producir este mismo producto, es por ello que en el vector de produccion la segunda coordenada es negativa, esto tambien explica porque sucede lo mismo en la tercera coordenada del vector,  ya que para producir el producto 3 se requiere un 15% de producto 2 y este fue utilizado en su totalidad para generarse a si mismo."
   ]
  },
  {
   "cell_type": "markdown",
   "id": "05074fdf-eec7-4b3f-9bd2-5bd13ddeaf4f",
   "metadata": {},
   "source": [
    "### Consigna 4 - "
   ]
  },
  {
   "cell_type": "markdown",
   "id": "fcf8ad9d-d078-4d6a-9cf2-d402983bc06d",
   "metadata": {},
   "source": [
    "Primero escribimos **(2)** con **p'** y **d'**.\n",
    "\n",
    "$$\n",
    "\\mathbf{p}' = (I - A)^{-1} \\mathbf{d}'\n",
    "$$\n",
    "\n",
    "$$\n",
    "\\mathbf{p}' = (I - A)^{-1} \\left( \\begin{bmatrix} d_1 \\\\ d_2 \\\\ d_3 \\end{bmatrix} + \\begin{bmatrix} 0 \\\\ 0 \\\\ 1 \\end{bmatrix} \\right)\n",
    "$$\n",
    "\n",
    "Si distribuimos la matriz de **Leontief** nos queda:\n",
    "\n",
    "$$\n",
    "\\mathbf{p}' = \\mathbf{p} + (I - A)^{-1}  \\begin{bmatrix} 0 \\\\ 0 \\\\ 1 \\end{bmatrix}\n",
    "$$\n",
    "\n",
    "Luego...\n",
    "\n",
    "$$\n",
    "\\Delta p = \\mathbf{p}' - \\mathbf{p}\n",
    "$$\n",
    "\n",
    "Finalmente:\n",
    "\n",
    "$$\n",
    "\\Delta p = (I - A)^{-1} \\Delta d\n",
    "$$\n",
    "\n",
    "Se observa que la variación de la producción queda definida por la tercer columna de la matriz de Leotief, debido a que $\\Delta d = \\begin{bmatrix} 0 \\\\ 0 \\\\ 1 \\end{bmatrix}$"
   ]
  },
  {
   "cell_type": "markdown",
   "id": "b101dcc9-b15b-4ddf-b65d-7966e85243e4",
   "metadata": {},
   "source": [
    "### Consigna 5 - "
   ]
  },
  {
   "cell_type": "markdown",
   "id": "e944c3ce-f32b-41d6-869b-7340376b266f",
   "metadata": {},
   "source": [
    "* Escribimos los datos del problema:"
   ]
  },
  {
   "cell_type": "code",
   "execution_count": 22,
   "id": "04a8a4f6-4c88-4fda-b18f-3c6ea1bf7b3e",
   "metadata": {},
   "outputs": [],
   "source": [
    "\n",
    "Z = np.array([[350,0,0],[50,250,150],[200,150,550]])\n",
    "P_inv = np.array([[1/1000,0,0],[0,1/500,0],[0,0,1/1000]]) #P_inv_ij = 1/(P_ij), ya que P es una matriz diagonal.\n"
   ]
  },
  {
   "cell_type": "markdown",
   "id": "44853899-2ec5-452f-8c29-a5a58f81c3ba",
   "metadata": {},
   "source": [
    "* Calculamos los coeficientes tecnicos de la matriz **A**:"
   ]
  },
  {
   "cell_type": "code",
   "execution_count": 25,
   "id": "7785e899",
   "metadata": {},
   "outputs": [
    {
     "name": "stdout",
     "output_type": "stream",
     "text": [
      "A = \n",
      " [[0.35 0.   0.  ]\n",
      " [0.05 0.5  0.15]\n",
      " [0.2  0.3  0.55]]\n"
     ]
    }
   ],
   "source": [
    "A = Z @ P_inv\n",
    "print(f'A = \\n {A}')"
   ]
  },
  {
   "cell_type": "markdown",
   "id": "3550f0ef-2f62-4049-a4d5-14164ae97bdb",
   "metadata": {},
   "source": [
    "* Ahora calculamos la matriz de Leontief:"
   ]
  },
  {
   "cell_type": "code",
   "execution_count": 28,
   "id": "e3d46a6f-3b2c-4335-a8f5-06ecab6ca658",
   "metadata": {},
   "outputs": [
    {
     "name": "stdout",
     "output_type": "stream",
     "text": [
      "esto es n---> 3\n",
      "(3, 3)\n",
      "Matriz de Leontief:\n",
      " [[1.53846154 0.         0.        ]\n",
      " [0.44871795 2.5        0.83333333]\n",
      " [0.98290598 1.66666667 2.77777778]]\n"
     ]
    }
   ],
   "source": [
    "ImenosA = np.eye(3) - A\n",
    "L, U, P = calcularLU(ImenosA)\n",
    "\n",
    "ML = inversaLU(L,U,P)\n",
    "\n",
    "print(f'Matriz de Leontief:\\n {ML}')\n",
    "\n",
    "#print(ImenosA @ ML) para chequear que vale."
   ]
  },
  {
   "cell_type": "markdown",
   "id": "c168500f-dc03-4e63-b0a1-24881b2d61c9",
   "metadata": {},
   "source": [
    "### Consigna 6\n",
    "\n",
    "Partimos de la ecuación **(4)**:\n",
    "\n",
    "$$\n",
    "\\left(\n",
    "\\begin{pmatrix}\n",
    "I_{n \\times n} & 0_{n \\times m} \\\\\n",
    "0_{m \\times n} & I_{m \\times m}\n",
    "\\end{pmatrix} \n",
    "-\n",
    "\\begin{pmatrix}\n",
    "A^{rr} & A^{rs} \\\\\n",
    "A^{sr} & A^{ss}\n",
    "\\end{pmatrix}\n",
    "\\right)\n",
    "\\begin{pmatrix}\n",
    "p^{r} \\\\\n",
    "p^{s}\n",
    "\\end{pmatrix}\n",
    "=\n",
    "\\begin{pmatrix}\n",
    "d^{r} \\\\\n",
    "d^{s}\n",
    "\\end{pmatrix}\n",
    "$$\n",
    "\n",
    "Si agregamos la variación de la producción en la región **r**, con la variación de demanda en **s** igual a 0, y realizamos la primera resta de matrices en el lado izquierdo, obtenemos:\n",
    "\n",
    "$$\n",
    "\\left(\n",
    "\\begin{pmatrix}\n",
    "I_{n \\times n} - A^{rr} & -A^{rs} \\\\\n",
    "-A^{sr} & I_{m \\times m} - A^{ss}\n",
    "\\end{pmatrix}\n",
    "\\right)\n",
    "\\begin{pmatrix}\n",
    "p^{r} + \\Delta p^{r} \\\\\n",
    "p^{s} + \\Delta p^{s}\n",
    "\\end{pmatrix}\n",
    "=\n",
    "\\begin{pmatrix}\n",
    "d^{r} + \\Delta d^{r} \\\\\n",
    "d^{s}\n",
    "\\end{pmatrix}\n",
    "$$\n",
    "\n",
    "De aquí, podemos extraer dos ecuaciones clave:\n",
    "\n",
    "$$\n",
    "\\begin{gather}\n",
    "(I - A^{rr}) \\Delta p^{r} - A^{rs} \\Delta p^{s} = \\Delta d^{r} \\\\\n",
    "-A^{sr} \\Delta p^{r} + (I - A^{ss}) \\Delta p^{s} = 0\n",
    "\\end{gather}\n",
    "$$\n",
    "\n",
    "Dado que solo se consideran las variaciones en la demanda, estas deben igualarse a las nuevas variaciones en la producción. Luego, de **(2)**:\n",
    "\n",
    "$$\n",
    "\\implies (I - A^{ss}) \\Delta p^{s} = A^{sr} \\Delta p^{r}\n",
    "$$\n",
    "\n",
    "lo que implica que:\n",
    "\n",
    "$$\n",
    "\\Leftrightarrow \\Delta p^{s} = (I - A^{ss})^{-1} A^{sr} \\Delta p^{r}\n",
    "$$\n",
    "\n",
    "Sustituyendo en **(1)**:\n",
    "\n",
    "$$\n",
    "(I - A^{rr}) \\Delta p^{r} - A^{rs} (I - A^{ss})^{-1} A^{sr} \\Delta p^{r} = \\Delta d^{r}\n",
    "$$\n",
    "\n",
    "$$\n",
    "\\implies \\left( (I - A^{rr}) - A^{rs} (I - A^{ss})^{-1} A^{sr} \\right) \\Delta p^{r} = \\Delta d^{r}\n",
    "$$\n",
    "\n",
    "Por lo tanto:\n",
    "\n",
    "$$\n",
    "\\Delta p^{r} = \\left( (I - A^{rr}) - A^{rs} (I - A^{ss})^{-1} A^{sr} \\right)^{-1} \\Delta d^{r}\n",
    "$$\n"
   ]
  },
  {
   "cell_type": "markdown",
   "id": "85449715-acb3-4745-919f-d92471d5865d",
   "metadata": {},
   "source": [
    "### Consigna 7"
   ]
  },
  {
   "cell_type": "markdown",
   "id": "642d815d-1a53-4638-b99e-e5c446a7f0df",
   "metadata": {},
   "source": [
    "* Importamos pandas y descargamos los datos."
   ]
  },
  {
   "cell_type": "code",
   "execution_count": 19,
   "id": "95b186cf",
   "metadata": {},
   "outputs": [
    {
     "name": "stdout",
     "output_type": "stream",
     "text": [
      "Collecting openpyxl\n",
      "  Downloading openpyxl-3.1.5-py2.py3-none-any.whl (250 kB)\n",
      "\u001b[2K     \u001b[38;2;114;156;31m━━━━━━━━━━━━━━━━━━━━━━━━━━━━━━━━━━━━━━━\u001b[0m \u001b[32m250.9/250.9 kB\u001b[0m \u001b[31m2.6 MB/s\u001b[0m eta \u001b[36m0:00:00\u001b[0m[36m0:00:01\u001b[0m[36m0:00:01\u001b[0m\n",
      "\u001b[?25hCollecting et-xmlfile\n",
      "  Downloading et_xmlfile-1.1.0-py3-none-any.whl (4.7 kB)\n",
      "Installing collected packages: et-xmlfile, openpyxl\n",
      "Successfully installed et-xmlfile-1.1.0 openpyxl-3.1.5\n"
     ]
    }
   ],
   "source": [
    "!pip install openpyxl"
   ]
  },
  {
   "cell_type": "code",
   "execution_count": 33,
   "id": "7d4448e8-223e-4597-a442-1eedc4e7d1e2",
   "metadata": {},
   "outputs": [],
   "source": [
    "import pandas as pd\n",
    "\n",
    "nombreFile = \"matrizlatina2011_compressed_0.xlsx\"\n",
    "archivo = pd.read_excel(nombreFile, sheet_name=1)"
   ]
  },
  {
   "cell_type": "markdown",
   "id": "982e1be0-653c-4fd3-a51b-73a2f882a238",
   "metadata": {},
   "source": [
    "* Seleccionamos los paises y generamos las matrices insumo producto de las regiones:"
   ]
  },
  {
   "cell_type": "code",
   "execution_count": 35,
   "id": "143cc4d3-5343-4531-aa24-1fae91e8389b",
   "metadata": {},
   "outputs": [],
   "source": [
    "p1=\"SLV\"\n",
    "p2=\"PAN\""
   ]
  },
  {
   "cell_type": "markdown",
   "id": "f915b952-294c-4bbd-9752-fe1938239b2d",
   "metadata": {},
   "source": [
    "<h1><u>Matrices intra-regionales:</u></h1>"
   ]
  },
  {
   "cell_type": "markdown",
   "id": "31a719dc-93c6-4adb-a3b4-2d531b95f4c2",
   "metadata": {},
   "source": [
    "1. Panamá "
   ]
  },
  {
   "cell_type": "code",
   "execution_count": 38,
   "id": "072fec7a-e947-412a-a837-5345a4d54111",
   "metadata": {},
   "outputs": [],
   "source": [
    "panama = archivo[archivo[\"Country_iso3\"]==p2] #seleccionamos las filas de Panamá\n",
    "\n",
    "iPP= panama.filter(regex='^PAN', axis=1) #seleccionamos las columas de Panamá\n",
    "\n",
    "outputP=panama[\"Output\"] #Output es el total producido\n",
    "\n",
    "output01P= outputP.replace(0,1) #Cambiamos los 0s por los 1s en el vector de produccion total, para luego poder calcular A con la fórmula dada en la \n",
    "                                #seccion de coeficientes técnicos. ( A = ZP^-1)."
   ]
  },
  {
   "cell_type": "markdown",
   "id": "ce00113f-82c8-40d9-97de-95e1c7cdb896",
   "metadata": {},
   "source": [
    "2. El Salvador"
   ]
  },
  {
   "cell_type": "code",
   "execution_count": 40,
   "id": "65061ce3-93f8-4302-a012-ef619c77e948",
   "metadata": {},
   "outputs": [],
   "source": [
    "salvador = archivo[archivo[\"Country_iso3\"]==p1] #seleccionamos las filas de El Salvador\n",
    "\n",
    "\n",
    "iSS= salvador.filter(regex='^SLV', axis=1) #seleccionamos las columas de El Salvador\n",
    "\n",
    "outputS = salvador[\"Output\"] #Output es el total producido\n",
    "\n",
    "output01S=outputS.replace(0,1) #Cambiamos los 0s por los 1s en el vector de produccion total, para luego poder calcular A con la fórmula dada en la \n",
    "                                #seccion de coeficientes técnicos. ( A = ZP^-1)."
   ]
  },
  {
   "cell_type": "markdown",
   "id": "7d3cb2e8-85d1-4c17-87ec-029b6f87f17c",
   "metadata": {},
   "source": [
    "<h1><u>Matrices inter-regionales:</u></h1>"
   ]
  },
  {
   "cell_type": "markdown",
   "id": "48a7f242-71fb-4ef6-af6d-e15f6f27eddc",
   "metadata": {},
   "source": [
    "1. Panamá-Salvador"
   ]
  },
  {
   "cell_type": "code",
   "execution_count": 43,
   "id": "3b92603a-e016-4484-b0af-d6724a6190b6",
   "metadata": {},
   "outputs": [],
   "source": [
    "iPS= panama.filter(regex='^SLV', axis=1) #de la matriz generada por la selección de filas de Panamá, seleccionamos las columnas de El Salvador."
   ]
  },
  {
   "cell_type": "markdown",
   "id": "6f1827f3-3ce3-46b0-abe1-8e92027b12db",
   "metadata": {},
   "source": [
    "2. Salvador-Panamá"
   ]
  },
  {
   "cell_type": "code",
   "execution_count": 45,
   "id": "1816c68b-c548-4d84-bc98-711636cf0a91",
   "metadata": {},
   "outputs": [],
   "source": [
    "iSP= salvador.filter(regex='^PAN', axis=1) #de la matriz generada por la selección de filas de El Salvador, seleccionamos las columnas de Panamá."
   ]
  },
  {
   "cell_type": "markdown",
   "id": "cf5b50a4-1069-4b3a-82ee-1c9870ab7310",
   "metadata": {},
   "source": [
    "<h1><u>Coeficientes técnicos</u></h1>"
   ]
  },
  {
   "cell_type": "markdown",
   "id": "3ed50858-4363-448b-9e39-e9b1b20f04d9",
   "metadata": {},
   "source": [
    "Primero definimos una funcion para calcularlos de una forma mas eficiente."
   ]
  },
  {
   "cell_type": "code",
   "execution_count": 48,
   "id": "8f49a7b3-ab1f-4039-935a-f6c65ee1794b",
   "metadata": {},
   "outputs": [],
   "source": [
    "def coeficientesTecnicos(Z,P):\n",
    "    \"\"\"Recibe la matriz de flujo de capitales y en vector produccion. Devuelve la matriz de coeficientes tecnicos asociada\"\"\"\n",
    "    P= np.diag(P)\n",
    "    L, U, Per = calcularLU(P)\n",
    "    P_inv = inversaLU(L, U, Per)\n",
    "    A =Z@P_inv\n",
    "    \n",
    "    return  A"
   ]
  },
  {
   "cell_type": "markdown",
   "id": "ec1ce59c-b03f-467e-86ae-db5d763f0c12",
   "metadata": {},
   "source": [
    "Ahora realizamos los calculos:"
   ]
  },
  {
   "cell_type": "code",
   "execution_count": 50,
   "id": "c21734ab-ccbc-4382-aa0e-771a919404c2",
   "metadata": {},
   "outputs": [
    {
     "name": "stdout",
     "output_type": "stream",
     "text": [
      "esto es n---> 40\n",
      "(40, 40)\n",
      "esto es n---> 40\n",
      "(40, 40)\n",
      "esto es n---> 40\n",
      "(40, 40)\n",
      "esto es n---> 40\n",
      "(40, 40)\n"
     ]
    }
   ],
   "source": [
    "APP = coeficientesTecnicos(iPP, output01P)\n",
    "\n",
    "ASP=coeficientesTecnicos(iSP, output01P)\n",
    "\n",
    "ASS= coeficientesTecnicos(iSS, output01S) \n",
    "\n",
    "APS= coeficientesTecnicos(iPS, output01S)"
   ]
  },
  {
   "cell_type": "markdown",
   "id": "d22c2f8f-7dda-42af-be6e-d00292ffdc60",
   "metadata": {},
   "source": [
    "<h1><u>Simulación de shock de demanda</u></h1>"
   ]
  },
  {
   "cell_type": "markdown",
   "id": "5c6ef47b-2ef2-46f0-8342-977d48ca1fd5",
   "metadata": {},
   "source": [
    "Para generar el shock primero debemos calcular la demanda. Para ello utilizamos ec __(4)__, para la fórmula completa y para el modelo simple utilizamos $(I - A^{rr})  p^{r} = d^{r}$."
   ]
  },
  {
   "cell_type": "code",
   "execution_count": 53,
   "id": "fa3d7140-e5b3-4eff-8570-056d659fc60a",
   "metadata": {},
   "outputs": [],
   "source": [
    "def demandaCalculator(RR,RS,SR,SS,pR,pS):\n",
    "    \"\"\"Recibe las matrices de insumo-producto de cada region y los vectores de produccion de estas. Devuelve la demanda de cada una usando la ecuacion (4) \"\"\"\n",
    "    tamañoIdentidad=np.shape(RR)[0] + np.shape(SS)[1]\n",
    "    \n",
    "    identidadSuper= np.eye(tamañoIdentidad)\n",
    "    \n",
    "    up = np.hstack((RR,RS))\n",
    "    \n",
    "    down = np.hstack((SR,SS))\n",
    "    \n",
    "    ASuper= np.vstack((up,down))\n",
    "    \n",
    "    restaSuper = identidadSuper - ASuper\n",
    "    \n",
    "    productoSuper = np.hstack((pR,pS))\n",
    "    \n",
    "    demandaSuper= restaSuper @ productoSuper\n",
    "    \n",
    "    #######SEPARAMOS LAS DEMANDAS R,S ##########\n",
    "    \n",
    "    demandatamaño=np.shape(demandaSuper)[0]\n",
    "    \n",
    "    dR= demandaSuper[0:int(demandatamaño/2)]\n",
    "    \n",
    "    dS= demandaSuper[int(demandatamaño/2):demandatamaño]\n",
    "\n",
    "    return dR, dS\n",
    "\n",
    "def demandaCalculatorSimple(RR,pR):\n",
    "    \n",
    "    identidad=np.eye(np.shape(RR)[0])\n",
    "    \n",
    "    pR_np = pR.to_numpy()        \n",
    "\n",
    "    dR=(identidad-RR)@pR_np\n",
    "    \n",
    "    \n",
    "    \n",
    "    return dR.to_numpy()\n",
    "    "
   ]
  },
  {
   "cell_type": "markdown",
   "id": "1d0a564d-7e6d-4e0f-a8c6-ecc2b028d417",
   "metadata": {},
   "source": [
    "Previamente habiamos calculado la ambas demandas utilizando el sistema completo. Ahora separamos el caso, y calculamos aparte la demadna simple con su ocasión. Sin embargo, notamos que el resultado de este forma y la anterior no varío releventamente.\n",
    "\n",
    "Utilizamos las funciones para calcular la demanda:"
   ]
  },
  {
   "cell_type": "code",
   "execution_count": 57,
   "id": "800dcdc3-81ac-4a16-b13d-69493616041d",
   "metadata": {},
   "outputs": [],
   "source": [
    "dP,dS=demandaCalculator(APP, APS, ASP, ASS, outputP, outputS)\n",
    "\n",
    "dPsimple=demandaCalculatorSimple(APP,outputP)\n"
   ]
  },
  {
   "cell_type": "markdown",
   "id": "5ba4dc96-9c0c-4d2a-a678-4e750ddc74de",
   "metadata": {},
   "source": [
    "Ahora generamos el shock:"
   ]
  },
  {
   "cell_type": "code",
   "execution_count": 62,
   "id": "dd743e32-f2c7-4048-8956-fb384b1f6ac9",
   "metadata": {},
   "outputs": [],
   "source": [
    "def deltaD_generator(demanda, shocks):\n",
    "    \"\"\"Recibe un vector demanda y un vector shocks. Devuelve la diferencia entre la demanda original y la nueva generada por los shocks\"\"\"\n",
    "    demandaPrima = demanda.copy()\n",
    "    for i in range(len(shocks)):\n",
    "        demandaPrima[shocks[i][0]-1] = demanda[shocks[i][0]-1] + demanda[shocks[i][0]-1] * shocks[i][1]\n",
    "        \n",
    "    deltaD = demanda - demandaPrima\n",
    "    return deltaD\n",
    "\n",
    "shocks = [[5,-0.1],[6,0.33],[7,0.33],[8,0.33]]\n",
    "\n",
    "deltaD = deltaD_generator(dP, shocks)\n",
    "\n",
    "\n",
    "\n",
    "deltaDsimple = deltaD_generator(dPsimple, shocks)"
   ]
  },
  {
   "cell_type": "markdown",
   "id": "26d855aa-700c-4178-a8d5-3b2b1b0f226f",
   "metadata": {},
   "source": [
    "<h1><u>Modelo de región simple vs Fórmula completa</u></h1>"
   ]
  },
  {
   "cell_type": "markdown",
   "id": "8b24ba03-958a-4e33-9aeb-054aef0fdca5",
   "metadata": {},
   "source": [
    "1. Primero hacemos los cálculos para el modelo de región simple."
   ]
  },
  {
   "cell_type": "markdown",
   "id": "91d172ec-4dc2-4263-853e-3645fc53a684",
   "metadata": {},
   "source": [
    "$$\n",
    "\\Delta p^{r} = (I - A^{rr})^{-1} \\Delta d^{r}\n",
    "$$"
   ]
  },
  {
   "cell_type": "code",
   "execution_count": 72,
   "id": "129a4322-0fc8-45e4-a357-4988e424fdc3",
   "metadata": {},
   "outputs": [
    {
     "name": "stdout",
     "output_type": "stream",
     "text": [
      "esto es n---> 40\n",
      "(40, 40)\n"
     ]
    }
   ],
   "source": [
    "ImenosAPP = np.eye(np.shape(APP)[0]) - APP\n",
    "ImenosAPP_arr = ImenosAPP.to_numpy() #pasamos a array asi podemos utilizar las funciones definidas en funciones.py.\n",
    "\n",
    "L1, U1, Per1 = calcularLU(ImenosAPP_arr)\n",
    "ML = inversaLU(L1,U1,Per1)\n",
    "    \n",
    "deltaPp_simple = ML @ deltaDsimple"
   ]
  },
  {
   "cell_type": "markdown",
   "id": "052ee5fa-f57d-4460-87f2-45e5e1c5f5e2",
   "metadata": {},
   "source": [
    "2. Ahora hacemos los cálculos usando la fórmula completa"
   ]
  },
  {
   "cell_type": "markdown",
   "id": "6007e94d-0cbe-4d4c-904d-28c20d1d1072",
   "metadata": {},
   "source": [
    "$$\n",
    "\\Delta p^{r} = ((I-A^{rr}) - A^{rs} (I-A^{ss})^{-1} A^{sr})^{-1} \\Delta d^{r}\n",
    "$$"
   ]
  },
  {
   "cell_type": "code",
   "execution_count": 76,
   "id": "0f2a0fed-332d-49d2-b90e-c99c3c8f63b0",
   "metadata": {},
   "outputs": [
    {
     "name": "stdout",
     "output_type": "stream",
     "text": [
      "esto es n---> 40\n",
      "(40, 40)\n",
      "esto es n---> 40\n",
      "(40, 40)\n"
     ]
    }
   ],
   "source": [
    "#pasamos todos los dataframes que aparecen en la fórmula a matrices de numpy:\n",
    "    \n",
    "ImenosASS = np.eye(np.shape(ASS)[0]) - ASS\n",
    "ImenosASS_arr = ImenosASS.to_numpy()\n",
    "\n",
    "APS_arr = APS.to_numpy()\n",
    "\n",
    "ASP_arr = ASP.to_numpy()\n",
    "\n",
    "#calculos previos:\n",
    "\n",
    "L, U, Per = calcularLU(ImenosASS_arr)    \n",
    "ML_ASS = inversaLU(L,U,Per)\n",
    "\n",
    "granTermino = ImenosAPP_arr - APS_arr @ ML_ASS @ ASP_arr\n",
    "\n",
    "L, U, Per = calcularLU(granTermino)\n",
    "granTermino_inv = inversaLU(L,U,Per)\n",
    "\n",
    "#calculo final:\n",
    "\n",
    "deltaPp_completa = granTermino_inv @ deltaD"
   ]
  },
  {
   "cell_type": "markdown",
   "id": "6a15d5cd-54a7-4df1-b5f6-7fa57fe4a35a",
   "metadata": {},
   "source": [
    "3. Finalemente hacemos un gráfico para comparar los resultados."
   ]
  },
  {
   "cell_type": "code",
   "execution_count": 79,
   "id": "db2a8043-3882-48b6-8aff-52b618b38a2b",
   "metadata": {},
   "outputs": [
    {
     "data": {
      "image/png": "[encoded data removed]",
      "text/plain": [
       "<Figure size 1000x500 with 2 Axes>"
      ]
     },
     "metadata": {},
     "output_type": "display_data"
    }
   ],
   "source": [
    "import matplotlib.pyplot as plt\n",
    "\n",
    "\n",
    "x = np.arange(1,41)\n",
    "\n",
    "fig, (DeltaP_simple, DeltaP_completa) = plt.subplots(1, 2, figsize=(10, 5))\n",
    "\n",
    "# Gráfico 1\n",
    "DeltaP_simple.scatter(x, deltaPp_simple)\n",
    "DeltaP_simple.set_xlabel('Productos')\n",
    "DeltaP_simple.set_ylabel('Variación en la Producción')\n",
    "DeltaP_simple.set_title('Modelo de Región Simple')\n",
    "\n",
    "# Gráfico 2\n",
    "DeltaP_completa.scatter(x, deltaPp_completa, color = 'red')\n",
    "DeltaP_completa.set_xlabel('Productos')\n",
    "DeltaP_completa.set_ylabel('Variación en la Producción')\n",
    "DeltaP_completa.set_title('Fórmula completa')\n",
    "\n",
    "\n",
    "\n",
    "\n",
    "plt.tight_layout()\n",
    "\n",
    "plt.show()"
   ]
  },
  {
   "cell_type": "markdown",
   "id": "4f482017-0824-4b74-a3d4-63f936a265a7",
   "metadata": {},
   "source": [
    "Como se observa en el gráfico no hay una variacion notoria en los resultados de $\\Delta p^{r}$.\n",
    "\n",
    "\n",
    "El termino que difiere entre la formula simple y la completa es:$- A^{rs} (I-A^{ss})^{-1} A^{sr}$.\n",
    "Calculando solo esta parte, observamos que los valores de la matriz resultante son cercanos a 0. Por lo tanto, tener en cuenta este termino no afecta al resultado de la variacion de la producción. \n",
    "Creemos que esto se debe a que los insumos seleccionados no son materia relevante en el comercio entre estos 2 paises, con lo cual la variacion de la produccion, a partir de un shock de la demanda de estos productos, no se ve afectada significativamente entre las dos formulas. \n",
    "\n"
   ]
  },
  {
   "cell_type": "code",
   "execution_count": 72,
   "id": "9adb42bf",
   "metadata": {},
   "outputs": [
    {
     "name": "stdout",
     "output_type": "stream",
     "text": [
      "Delta p completa ---> [-5.50683913e+01  9.60278551e+00  0.00000000e+00 -3.68450470e-01\n",
      "  1.23041770e+02 -1.65064071e+02 -3.32419648e+01 -9.36076543e+01\n",
      " -3.27867890e-01  0.00000000e+00 -1.63211150e-06 -5.47691213e-02\n",
      " -4.54053735e-09 -3.15984901e-02 -1.28395011e+00 -4.12196336e-05\n",
      " -1.83545445e-06 -7.87860599e-01 -1.65856614e-02 -1.47461331e+00\n",
      " -4.80047949e-01 -1.15325748e-02 -2.87978549e-07 -6.68652090e-07\n",
      " -1.02629843e-06  0.00000000e+00 -7.32447132e-08  0.00000000e+00\n",
      " -1.55345325e-08  0.00000000e+00  0.00000000e+00  0.00000000e+00\n",
      " -3.75594006e-01 -2.49149215e+00 -7.95468581e-01 -6.88119704e+00\n",
      " -1.34075813e+00 -4.76997199e+00 -5.47166361e+00 -2.69279068e+01]\n",
      "Delta p simple ---> [-5.50660115e+01  9.60340242e+00  0.00000000e+00 -3.68446958e-01\n",
      "  1.23049619e+02 -1.65064061e+02 -3.32419216e+01 -9.36105559e+01\n",
      " -3.27847802e-01  0.00000000e+00  0.00000000e+00 -5.47677187e-02\n",
      "  0.00000000e+00 -3.15971031e-02 -1.28386304e+00  0.00000000e+00\n",
      "  0.00000000e+00 -7.87807100e-01 -1.65851305e-02 -1.47460314e+00\n",
      " -4.80041505e-01 -1.15320393e-02  0.00000000e+00  0.00000000e+00\n",
      "  0.00000000e+00  0.00000000e+00  0.00000000e+00  0.00000000e+00\n",
      "  0.00000000e+00  0.00000000e+00  0.00000000e+00  0.00000000e+00\n",
      " -3.75576982e-01 -2.49138098e+00 -7.95445776e-01 -6.88103815e+00\n",
      " -1.34072525e+00 -4.76963233e+00 -5.47154478e+00 -2.69268873e+01]\n"
     ]
    }
   ],
   "source": [
    "print(\"Delta p completa --->\",deltaPp_completa)\n",
    "\n",
    "print(\"Delta p simple --->\",deltaPp_simple)"
   ]
  }
 ],
 "metadata": {
  "kernelspec": {
   "display_name": "Python 3",
   "language": "python",
   "name": "python3"
  },
  "language_info": {
   "codemirror_mode": {
    "name": "ipython",
    "version": 3
   },
   "file_extension": ".py",
   "mimetype": "text/x-python",
   "name": "python",
   "nbconvert_exporter": "python",
   "pygments_lexer": "ipython3",
   "version": "3.12.5"
  }
 },
 "nbformat": 4,
 "nbformat_minor": 5
}
